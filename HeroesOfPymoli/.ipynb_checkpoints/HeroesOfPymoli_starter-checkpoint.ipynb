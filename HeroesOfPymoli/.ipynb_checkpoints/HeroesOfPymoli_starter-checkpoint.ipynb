{
 "cells": [
  {
   "cell_type": "markdown",
   "metadata": {},
   "source": [
    "### Note\n",
    "* Instructions have been included for each segment. You do not have to follow them exactly, but they are included to help you think through the steps."
   ]
  },
  {
   "cell_type": "code",
   "execution_count": 206,
   "metadata": {},
   "outputs": [],
   "source": [
    "# Dependencies and Setup\n",
    "import pandas as pd\n",
    "\n",
    "# File to Load (Remember to Change These)\n",
    "file_to_load = \"Resources/purchase_data.csv\"\n",
    "\n",
    "# Read Purchasing File and store into Pandas data frame\n",
    "purchase_data = pd.read_csv(file_to_load)"
   ]
  },
  {
   "cell_type": "markdown",
   "metadata": {},
   "source": [
    "## Player Count"
   ]
  },
  {
   "cell_type": "markdown",
   "metadata": {},
   "source": [
    "* Display the total number of players\n"
   ]
  },
  {
   "cell_type": "code",
   "execution_count": 207,
   "metadata": {},
   "outputs": [
    {
     "data": {
      "text/html": [
       "<div>\n",
       "<style scoped>\n",
       "    .dataframe tbody tr th:only-of-type {\n",
       "        vertical-align: middle;\n",
       "    }\n",
       "\n",
       "    .dataframe tbody tr th {\n",
       "        vertical-align: top;\n",
       "    }\n",
       "\n",
       "    .dataframe thead th {\n",
       "        text-align: right;\n",
       "    }\n",
       "</style>\n",
       "<table border=\"1\" class=\"dataframe\">\n",
       "  <thead>\n",
       "    <tr style=\"text-align: right;\">\n",
       "      <th></th>\n",
       "      <th>Total Players</th>\n",
       "    </tr>\n",
       "  </thead>\n",
       "  <tbody>\n",
       "    <tr>\n",
       "      <th>0</th>\n",
       "      <td>576</td>\n",
       "    </tr>\n",
       "  </tbody>\n",
       "</table>\n",
       "</div>"
      ],
      "text/plain": [
       "   Total Players\n",
       "0            576"
      ]
     },
     "execution_count": 207,
     "metadata": {},
     "output_type": "execute_result"
    }
   ],
   "source": [
    "total_players=len(purchase_data['SN'].unique())\n",
    "total_players\n",
    "\n",
    "total_players_display=pd.DataFrame({\"Total Players\" : [total_players]})\n",
    "total_players_display.head()"
   ]
  },
  {
   "cell_type": "markdown",
   "metadata": {},
   "source": [
    "## Purchasing Analysis (Total)"
   ]
  },
  {
   "cell_type": "markdown",
   "metadata": {},
   "source": [
    "* Run basic calculations to obtain number of unique items, average price, etc.\n",
    "\n",
    "\n",
    "* Create a summary data frame to hold the results\n",
    "\n",
    "\n",
    "* Optional: give the displayed data cleaner formatting\n",
    "\n",
    "\n",
    "* Display the summary data frame\n"
   ]
  },
  {
   "cell_type": "code",
   "execution_count": 208,
   "metadata": {
    "scrolled": true
   },
   "outputs": [],
   "source": [
    "unique_items=len((purchase_data['Item ID']).unique())\n",
    "average_price=(purchase_data['Price']).mean()\n",
    "purchase_qty=len(purchase_data['Purchase ID'])\n",
    "total_revenue=purchase_data['Price'].sum()\n",
    "purchase_analysis_df=pd.DataFrame({\"Number of Unique Items\": [unique_items],\n",
    "                                   \"Average Price\": [average_price],\n",
    "                                   \"Number of Purchases\": [purchase_qty],\n",
    "                                   \"Total Revenue\": [total_revenue]})\n",
    "\n",
    "\n",
    " "
   ]
  },
  {
   "cell_type": "code",
   "execution_count": 209,
   "metadata": {},
   "outputs": [
    {
     "data": {
      "text/html": [
       "<div>\n",
       "<style scoped>\n",
       "    .dataframe tbody tr th:only-of-type {\n",
       "        vertical-align: middle;\n",
       "    }\n",
       "\n",
       "    .dataframe tbody tr th {\n",
       "        vertical-align: top;\n",
       "    }\n",
       "\n",
       "    .dataframe thead th {\n",
       "        text-align: right;\n",
       "    }\n",
       "</style>\n",
       "<table border=\"1\" class=\"dataframe\">\n",
       "  <thead>\n",
       "    <tr style=\"text-align: right;\">\n",
       "      <th></th>\n",
       "      <th>Number of Unique Items</th>\n",
       "      <th>Average Price</th>\n",
       "      <th>Number of Purchases</th>\n",
       "      <th>Total Revenue</th>\n",
       "    </tr>\n",
       "  </thead>\n",
       "  <tbody>\n",
       "    <tr>\n",
       "      <th>0</th>\n",
       "      <td>179</td>\n",
       "      <td>$3.05</td>\n",
       "      <td>780</td>\n",
       "      <td>$2,379.77</td>\n",
       "    </tr>\n",
       "  </tbody>\n",
       "</table>\n",
       "</div>"
      ],
      "text/plain": [
       "   Number of Unique Items Average Price  Number of Purchases Total Revenue\n",
       "0                     179         $3.05                  780     $2,379.77"
      ]
     },
     "execution_count": 209,
     "metadata": {},
     "output_type": "execute_result"
    }
   ],
   "source": [
    "purchase_analysis_df[\"Average Price\"]=purchase_analysis_df[\"Average Price\"].astype(float).map(\n",
    "\"${:.2f}\".format)\n",
    "purchase_analysis_df[\"Total Revenue\"]=purchase_analysis_df[\"Total Revenue\"].astype(float).map(\n",
    "\"${:,.2f}\".format)\n",
    "purchase_analysis_df\n",
    "\n"
   ]
  },
  {
   "cell_type": "markdown",
   "metadata": {},
   "source": [
    "## Gender Demographics"
   ]
  },
  {
   "cell_type": "markdown",
   "metadata": {},
   "source": [
    "* Percentage and Count of Male Players\n",
    "\n",
    "\n",
    "* Percentage and Count of Female Players\n",
    "\n",
    "\n",
    "* Percentage and Count of Other / Non-Disclosed\n",
    "\n",
    "\n"
   ]
  },
  {
   "cell_type": "code",
   "execution_count": 210,
   "metadata": {},
   "outputs": [],
   "source": [
    "copy_purchase_data=purchase_data.copy()"
   ]
  },
  {
   "cell_type": "code",
   "execution_count": 211,
   "metadata": {},
   "outputs": [
    {
     "data": {
      "text/html": [
       "<div>\n",
       "<style scoped>\n",
       "    .dataframe tbody tr th:only-of-type {\n",
       "        vertical-align: middle;\n",
       "    }\n",
       "\n",
       "    .dataframe tbody tr th {\n",
       "        vertical-align: top;\n",
       "    }\n",
       "\n",
       "    .dataframe thead th {\n",
       "        text-align: right;\n",
       "    }\n",
       "</style>\n",
       "<table border=\"1\" class=\"dataframe\">\n",
       "  <thead>\n",
       "    <tr style=\"text-align: right;\">\n",
       "      <th></th>\n",
       "      <th>Purchase ID</th>\n",
       "      <th>SN</th>\n",
       "      <th>Age</th>\n",
       "      <th>Item ID</th>\n",
       "      <th>Item Name</th>\n",
       "      <th>Price</th>\n",
       "    </tr>\n",
       "    <tr>\n",
       "      <th>Gender</th>\n",
       "      <th></th>\n",
       "      <th></th>\n",
       "      <th></th>\n",
       "      <th></th>\n",
       "      <th></th>\n",
       "      <th></th>\n",
       "    </tr>\n",
       "  </thead>\n",
       "  <tbody>\n",
       "    <tr>\n",
       "      <th>Female</th>\n",
       "      <td>113</td>\n",
       "      <td>113</td>\n",
       "      <td>113</td>\n",
       "      <td>113</td>\n",
       "      <td>113</td>\n",
       "      <td>113</td>\n",
       "    </tr>\n",
       "    <tr>\n",
       "      <th>Male</th>\n",
       "      <td>652</td>\n",
       "      <td>652</td>\n",
       "      <td>652</td>\n",
       "      <td>652</td>\n",
       "      <td>652</td>\n",
       "      <td>652</td>\n",
       "    </tr>\n",
       "    <tr>\n",
       "      <th>Other / Non-Disclosed</th>\n",
       "      <td>15</td>\n",
       "      <td>15</td>\n",
       "      <td>15</td>\n",
       "      <td>15</td>\n",
       "      <td>15</td>\n",
       "      <td>15</td>\n",
       "    </tr>\n",
       "  </tbody>\n",
       "</table>\n",
       "</div>"
      ],
      "text/plain": [
       "                       Purchase ID   SN  Age  Item ID  Item Name  Price\n",
       "Gender                                                                 \n",
       "Female                         113  113  113      113        113    113\n",
       "Male                           652  652  652      652        652    652\n",
       "Other / Non-Disclosed           15   15   15       15         15     15"
      ]
     },
     "execution_count": 211,
     "metadata": {},
     "output_type": "execute_result"
    }
   ],
   "source": [
    "grouped_gender_df=copy_purchase_data.groupby('Gender')\n",
    "grouped_gender_df.count().head()"
   ]
  },
  {
   "cell_type": "code",
   "execution_count": 212,
   "metadata": {},
   "outputs": [
    {
     "data": {
      "text/html": [
       "<style type=\"text/css\">\n",
       "</style>\n",
       "<table id=\"T_f97dc_\">\n",
       "  <thead>\n",
       "    <tr>\n",
       "      <th class=\"blank level0\" >&nbsp;</th>\n",
       "      <th class=\"col_heading level0 col0\" >Total Count</th>\n",
       "      <th class=\"col_heading level0 col1\" >Percentage of Players</th>\n",
       "    </tr>\n",
       "    <tr>\n",
       "      <th class=\"index_name level0\" >Gender</th>\n",
       "      <th class=\"blank col0\" >&nbsp;</th>\n",
       "      <th class=\"blank col1\" >&nbsp;</th>\n",
       "    </tr>\n",
       "  </thead>\n",
       "  <tbody>\n",
       "    <tr>\n",
       "      <th id=\"T_f97dc_level0_row0\" class=\"row_heading level0 row0\" >Male</th>\n",
       "      <td id=\"T_f97dc_row0_col0\" class=\"data row0 col0\" >484</td>\n",
       "      <td id=\"T_f97dc_row0_col1\" class=\"data row0 col1\" >84.03%</td>\n",
       "    </tr>\n",
       "    <tr>\n",
       "      <th id=\"T_f97dc_level0_row1\" class=\"row_heading level0 row1\" >Female</th>\n",
       "      <td id=\"T_f97dc_row1_col0\" class=\"data row1 col0\" >81</td>\n",
       "      <td id=\"T_f97dc_row1_col1\" class=\"data row1 col1\" >14.06%</td>\n",
       "    </tr>\n",
       "    <tr>\n",
       "      <th id=\"T_f97dc_level0_row2\" class=\"row_heading level0 row2\" >Other / Non-Disclosed</th>\n",
       "      <td id=\"T_f97dc_row2_col0\" class=\"data row2 col0\" >11</td>\n",
       "      <td id=\"T_f97dc_row2_col1\" class=\"data row2 col1\" >1.91%</td>\n",
       "    </tr>\n",
       "  </tbody>\n",
       "</table>\n"
      ],
      "text/plain": [
       "<pandas.io.formats.style.Styler at 0x7f90f0484df0>"
      ]
     },
     "execution_count": 212,
     "metadata": {},
     "output_type": "execute_result"
    }
   ],
   "source": [
    "gender_count=grouped_gender_df.nunique()[\"SN\"]\n",
    "percentage_gender=gender_count/total_players*100\n",
    "\n",
    "gender_demographics_df=pd.DataFrame({\"Total Count\": gender_count,\n",
    "                                     \"Percentage of Players\": percentage_gender})\n",
    "gender_demographics_df.sort_values([\"Total Count\"], ascending= False).style.format({\"Percentage of Players\":\"{:.2f}%\"})\n"
   ]
  },
  {
   "cell_type": "markdown",
   "metadata": {},
   "source": [
    "\n",
    "## Purchasing Analysis (Gender)"
   ]
  },
  {
   "cell_type": "markdown",
   "metadata": {},
   "source": [
    "* Run basic calculations to obtain purchase count, avg. purchase price, avg. purchase total per person etc. by gender\n",
    "\n",
    "\n",
    "\n",
    "\n",
    "* Create a summary data frame to hold the results\n",
    "\n",
    "\n",
    "* Optional: give the displayed data cleaner formatting\n",
    "\n",
    "\n",
    "* Display the summary data frame"
   ]
  },
  {
   "cell_type": "code",
   "execution_count": 213,
   "metadata": {},
   "outputs": [
    {
     "data": {
      "text/html": [
       "<style type=\"text/css\">\n",
       "</style>\n",
       "<table id=\"T_c1ff3_\">\n",
       "  <thead>\n",
       "    <tr>\n",
       "      <th class=\"blank level0\" >&nbsp;</th>\n",
       "      <th class=\"col_heading level0 col0\" >Purchase Count</th>\n",
       "      <th class=\"col_heading level0 col1\" >Average Purchase Price</th>\n",
       "      <th class=\"col_heading level0 col2\" >Total Purchase Value</th>\n",
       "      <th class=\"col_heading level0 col3\" >Avg Total Purchase per Person</th>\n",
       "    </tr>\n",
       "    <tr>\n",
       "      <th class=\"index_name level0\" >Gender</th>\n",
       "      <th class=\"blank col0\" >&nbsp;</th>\n",
       "      <th class=\"blank col1\" >&nbsp;</th>\n",
       "      <th class=\"blank col2\" >&nbsp;</th>\n",
       "      <th class=\"blank col3\" >&nbsp;</th>\n",
       "    </tr>\n",
       "  </thead>\n",
       "  <tbody>\n",
       "    <tr>\n",
       "      <th id=\"T_c1ff3_level0_row0\" class=\"row_heading level0 row0\" >Female</th>\n",
       "      <td id=\"T_c1ff3_row0_col0\" class=\"data row0 col0\" >113</td>\n",
       "      <td id=\"T_c1ff3_row0_col1\" class=\"data row0 col1\" >$3.20</td>\n",
       "      <td id=\"T_c1ff3_row0_col2\" class=\"data row0 col2\" >$361.94</td>\n",
       "      <td id=\"T_c1ff3_row0_col3\" class=\"data row0 col3\" >$4.47</td>\n",
       "    </tr>\n",
       "    <tr>\n",
       "      <th id=\"T_c1ff3_level0_row1\" class=\"row_heading level0 row1\" >Male</th>\n",
       "      <td id=\"T_c1ff3_row1_col0\" class=\"data row1 col0\" >652</td>\n",
       "      <td id=\"T_c1ff3_row1_col1\" class=\"data row1 col1\" >$3.02</td>\n",
       "      <td id=\"T_c1ff3_row1_col2\" class=\"data row1 col2\" >$1,967.64</td>\n",
       "      <td id=\"T_c1ff3_row1_col3\" class=\"data row1 col3\" >$4.07</td>\n",
       "    </tr>\n",
       "    <tr>\n",
       "      <th id=\"T_c1ff3_level0_row2\" class=\"row_heading level0 row2\" >Other / Non-Disclosed</th>\n",
       "      <td id=\"T_c1ff3_row2_col0\" class=\"data row2 col0\" >15</td>\n",
       "      <td id=\"T_c1ff3_row2_col1\" class=\"data row2 col1\" >$3.35</td>\n",
       "      <td id=\"T_c1ff3_row2_col2\" class=\"data row2 col2\" >$50.19</td>\n",
       "      <td id=\"T_c1ff3_row2_col3\" class=\"data row2 col3\" >$4.56</td>\n",
       "    </tr>\n",
       "  </tbody>\n",
       "</table>\n"
      ],
      "text/plain": [
       "<pandas.io.formats.style.Styler at 0x7f90c0c8de50>"
      ]
     },
     "execution_count": 213,
     "metadata": {},
     "output_type": "execute_result"
    }
   ],
   "source": [
    "purchase_count=grouped_gender_df[\"Purchase ID\"].count()\n",
    "purchase_average_price=grouped_gender_df[\"Price\"].mean()\n",
    "purchase_sum=grouped_gender_df[\"Price\"].sum()\n",
    "purchase_pp=purchase_sum/gender_count\n",
    "\n",
    "purchase_analysis_df=pd.DataFrame({\"Purchase Count\": purchase_count,\n",
    "                                 \"Average Purchase Price\": purchase_average_price,\n",
    "                                  \"Total Purchase Value\": purchase_sum,\n",
    "                                   \"Avg Total Purchase per Person\": purchase_pp})\n",
    "purchase_analysis_df.style.format({\"Average Purchase Price\":\"${:.2f}\",\n",
    "                                 \"Total Purchase Value\":\"${:,.2f}\",\n",
    "                                 \"Avg Total Purchase per Person\":\"${:,.2f}\"})\n"
   ]
  },
  {
   "cell_type": "markdown",
   "metadata": {},
   "source": [
    "## Age Demographics"
   ]
  },
  {
   "cell_type": "markdown",
   "metadata": {},
   "source": [
    "* Establish bins for ages\n",
    "\n",
    "\n",
    "* Categorize the existing players using the age bins. Hint: use pd.cut()\n",
    "\n",
    "\n",
    "* Calculate the numbers and percentages by age group\n",
    "\n",
    "\n",
    "* Create a summary data frame to hold the results\n",
    "\n",
    "\n",
    "* Optional: round the percentage column to two decimal points\n",
    "\n",
    "\n",
    "* Display Age Demographics Table\n"
   ]
  },
  {
   "cell_type": "code",
   "execution_count": 214,
   "metadata": {},
   "outputs": [
    {
     "data": {
      "text/html": [
       "<style type=\"text/css\">\n",
       "</style>\n",
       "<table id=\"T_feab5_\">\n",
       "  <thead>\n",
       "    <tr>\n",
       "      <th class=\"blank level0\" >&nbsp;</th>\n",
       "      <th class=\"col_heading level0 col0\" >Total Count</th>\n",
       "      <th class=\"col_heading level0 col1\" >Percentage of Players</th>\n",
       "    </tr>\n",
       "  </thead>\n",
       "  <tbody>\n",
       "    <tr>\n",
       "      <th id=\"T_feab5_level0_row0\" class=\"row_heading level0 row0\" ><10</th>\n",
       "      <td id=\"T_feab5_row0_col0\" class=\"data row0 col0\" >17</td>\n",
       "      <td id=\"T_feab5_row0_col1\" class=\"data row0 col1\" >2.95%</td>\n",
       "    </tr>\n",
       "    <tr>\n",
       "      <th id=\"T_feab5_level0_row1\" class=\"row_heading level0 row1\" >10-14</th>\n",
       "      <td id=\"T_feab5_row1_col0\" class=\"data row1 col0\" >22</td>\n",
       "      <td id=\"T_feab5_row1_col1\" class=\"data row1 col1\" >3.82%</td>\n",
       "    </tr>\n",
       "    <tr>\n",
       "      <th id=\"T_feab5_level0_row2\" class=\"row_heading level0 row2\" >15-19</th>\n",
       "      <td id=\"T_feab5_row2_col0\" class=\"data row2 col0\" >107</td>\n",
       "      <td id=\"T_feab5_row2_col1\" class=\"data row2 col1\" >18.58%</td>\n",
       "    </tr>\n",
       "    <tr>\n",
       "      <th id=\"T_feab5_level0_row3\" class=\"row_heading level0 row3\" >20-24</th>\n",
       "      <td id=\"T_feab5_row3_col0\" class=\"data row3 col0\" >258</td>\n",
       "      <td id=\"T_feab5_row3_col1\" class=\"data row3 col1\" >44.79%</td>\n",
       "    </tr>\n",
       "    <tr>\n",
       "      <th id=\"T_feab5_level0_row4\" class=\"row_heading level0 row4\" >25-29</th>\n",
       "      <td id=\"T_feab5_row4_col0\" class=\"data row4 col0\" >77</td>\n",
       "      <td id=\"T_feab5_row4_col1\" class=\"data row4 col1\" >13.37%</td>\n",
       "    </tr>\n",
       "    <tr>\n",
       "      <th id=\"T_feab5_level0_row5\" class=\"row_heading level0 row5\" >30-34</th>\n",
       "      <td id=\"T_feab5_row5_col0\" class=\"data row5 col0\" >52</td>\n",
       "      <td id=\"T_feab5_row5_col1\" class=\"data row5 col1\" >9.03%</td>\n",
       "    </tr>\n",
       "    <tr>\n",
       "      <th id=\"T_feab5_level0_row6\" class=\"row_heading level0 row6\" >35-39</th>\n",
       "      <td id=\"T_feab5_row6_col0\" class=\"data row6 col0\" >31</td>\n",
       "      <td id=\"T_feab5_row6_col1\" class=\"data row6 col1\" >5.38%</td>\n",
       "    </tr>\n",
       "    <tr>\n",
       "      <th id=\"T_feab5_level0_row7\" class=\"row_heading level0 row7\" >40+</th>\n",
       "      <td id=\"T_feab5_row7_col0\" class=\"data row7 col0\" >12</td>\n",
       "      <td id=\"T_feab5_row7_col1\" class=\"data row7 col1\" >2.08%</td>\n",
       "    </tr>\n",
       "  </tbody>\n",
       "</table>\n"
      ],
      "text/plain": [
       "<pandas.io.formats.style.Styler at 0x7f9090168a30>"
      ]
     },
     "execution_count": 214,
     "metadata": {},
     "output_type": "execute_result"
    }
   ],
   "source": [
    "bins= [1,9.99,14.99,19.99,24.99, 29.99, 34.99, 39.99,9999]\n",
    "age_ranges=[\"<10\",\"10-14\",\"15-19\",\"20-24\",\"25-29\",\"30-34\",\"35-39\",\"40+\"]\n",
    "\n",
    "purchase_data[\"Age Demographics\"]=pd.cut(purchase_data[\"Age\"], bins, labels=age_ranges, include_lowest=True)\n",
    "purchase_data\n",
    "\n",
    "grouped_by_age=purchase_data.groupby(\"Age Demographics\")\n",
    "qty_by_age=grouped_by_age.nunique()[\"SN\"]\n",
    "percentage_by_age=(qty_by_age/total_players) * 100\n",
    "\n",
    "age_demographics_df=pd.DataFrame({\"Total Count\": qty_by_age,\n",
    "                                   \"Percentage of Players\": percentage_by_age})\n",
    "age_demographics_df.index.name=None\n",
    "\n",
    "age_demographics_df.style.format({\"Percentage of Players\": \"{:,.2f}%\"})"
   ]
  },
  {
   "cell_type": "markdown",
   "metadata": {},
   "source": [
    "## Purchasing Analysis (Age)"
   ]
  },
  {
   "cell_type": "markdown",
   "metadata": {},
   "source": [
    "* Bin the purchase_data data frame by age\n",
    "\n",
    "\n",
    "* Run basic calculations to obtain purchase count, avg. purchase price, avg. purchase total per person etc. in the table below\n",
    "\n",
    "\n",
    "* Create a summary data frame to hold the results\n",
    "\n",
    "\n",
    "* Optional: give the displayed data cleaner formatting\n",
    "\n",
    "\n",
    "* Display the summary data frame"
   ]
  },
  {
   "cell_type": "code",
   "execution_count": 216,
   "metadata": {},
   "outputs": [
    {
     "data": {
      "text/html": [
       "<style type=\"text/css\">\n",
       "</style>\n",
       "<table id=\"T_ae05e_\">\n",
       "  <thead>\n",
       "    <tr>\n",
       "      <th class=\"blank level0\" >&nbsp;</th>\n",
       "      <th class=\"col_heading level0 col0\" >Purchase Count</th>\n",
       "      <th class=\"col_heading level0 col1\" >Average Purchase Price</th>\n",
       "      <th class=\"col_heading level0 col2\" >Total Purchase Value</th>\n",
       "      <th class=\"col_heading level0 col3\" >Avg Total Purchase per Person</th>\n",
       "    </tr>\n",
       "    <tr>\n",
       "      <th class=\"index_name level0\" >Age Ranges</th>\n",
       "      <th class=\"blank col0\" >&nbsp;</th>\n",
       "      <th class=\"blank col1\" >&nbsp;</th>\n",
       "      <th class=\"blank col2\" >&nbsp;</th>\n",
       "      <th class=\"blank col3\" >&nbsp;</th>\n",
       "    </tr>\n",
       "  </thead>\n",
       "  <tbody>\n",
       "    <tr>\n",
       "      <th id=\"T_ae05e_level0_row0\" class=\"row_heading level0 row0\" ><10</th>\n",
       "      <td id=\"T_ae05e_row0_col0\" class=\"data row0 col0\" >23</td>\n",
       "      <td id=\"T_ae05e_row0_col1\" class=\"data row0 col1\" >$3.35</td>\n",
       "      <td id=\"T_ae05e_row0_col2\" class=\"data row0 col2\" >$77.13</td>\n",
       "      <td id=\"T_ae05e_row0_col3\" class=\"data row0 col3\" >$4.54</td>\n",
       "    </tr>\n",
       "    <tr>\n",
       "      <th id=\"T_ae05e_level0_row1\" class=\"row_heading level0 row1\" >10-14</th>\n",
       "      <td id=\"T_ae05e_row1_col0\" class=\"data row1 col0\" >28</td>\n",
       "      <td id=\"T_ae05e_row1_col1\" class=\"data row1 col1\" >$2.96</td>\n",
       "      <td id=\"T_ae05e_row1_col2\" class=\"data row1 col2\" >$82.78</td>\n",
       "      <td id=\"T_ae05e_row1_col3\" class=\"data row1 col3\" >$3.76</td>\n",
       "    </tr>\n",
       "    <tr>\n",
       "      <th id=\"T_ae05e_level0_row2\" class=\"row_heading level0 row2\" >15-19</th>\n",
       "      <td id=\"T_ae05e_row2_col0\" class=\"data row2 col0\" >136</td>\n",
       "      <td id=\"T_ae05e_row2_col1\" class=\"data row2 col1\" >$3.04</td>\n",
       "      <td id=\"T_ae05e_row2_col2\" class=\"data row2 col2\" >$412.89</td>\n",
       "      <td id=\"T_ae05e_row2_col3\" class=\"data row2 col3\" >$3.86</td>\n",
       "    </tr>\n",
       "    <tr>\n",
       "      <th id=\"T_ae05e_level0_row3\" class=\"row_heading level0 row3\" >20-24</th>\n",
       "      <td id=\"T_ae05e_row3_col0\" class=\"data row3 col0\" >365</td>\n",
       "      <td id=\"T_ae05e_row3_col1\" class=\"data row3 col1\" >$3.05</td>\n",
       "      <td id=\"T_ae05e_row3_col2\" class=\"data row3 col2\" >$1,114.06</td>\n",
       "      <td id=\"T_ae05e_row3_col3\" class=\"data row3 col3\" >$4.32</td>\n",
       "    </tr>\n",
       "    <tr>\n",
       "      <th id=\"T_ae05e_level0_row4\" class=\"row_heading level0 row4\" >25-29</th>\n",
       "      <td id=\"T_ae05e_row4_col0\" class=\"data row4 col0\" >101</td>\n",
       "      <td id=\"T_ae05e_row4_col1\" class=\"data row4 col1\" >$2.90</td>\n",
       "      <td id=\"T_ae05e_row4_col2\" class=\"data row4 col2\" >$293.00</td>\n",
       "      <td id=\"T_ae05e_row4_col3\" class=\"data row4 col3\" >$3.81</td>\n",
       "    </tr>\n",
       "    <tr>\n",
       "      <th id=\"T_ae05e_level0_row5\" class=\"row_heading level0 row5\" >30-34</th>\n",
       "      <td id=\"T_ae05e_row5_col0\" class=\"data row5 col0\" >73</td>\n",
       "      <td id=\"T_ae05e_row5_col1\" class=\"data row5 col1\" >$2.93</td>\n",
       "      <td id=\"T_ae05e_row5_col2\" class=\"data row5 col2\" >$214.00</td>\n",
       "      <td id=\"T_ae05e_row5_col3\" class=\"data row5 col3\" >$4.12</td>\n",
       "    </tr>\n",
       "    <tr>\n",
       "      <th id=\"T_ae05e_level0_row6\" class=\"row_heading level0 row6\" >35-39</th>\n",
       "      <td id=\"T_ae05e_row6_col0\" class=\"data row6 col0\" >41</td>\n",
       "      <td id=\"T_ae05e_row6_col1\" class=\"data row6 col1\" >$3.60</td>\n",
       "      <td id=\"T_ae05e_row6_col2\" class=\"data row6 col2\" >$147.67</td>\n",
       "      <td id=\"T_ae05e_row6_col3\" class=\"data row6 col3\" >$4.76</td>\n",
       "    </tr>\n",
       "    <tr>\n",
       "      <th id=\"T_ae05e_level0_row7\" class=\"row_heading level0 row7\" >40+</th>\n",
       "      <td id=\"T_ae05e_row7_col0\" class=\"data row7 col0\" >13</td>\n",
       "      <td id=\"T_ae05e_row7_col1\" class=\"data row7 col1\" >$2.94</td>\n",
       "      <td id=\"T_ae05e_row7_col2\" class=\"data row7 col2\" >$38.24</td>\n",
       "      <td id=\"T_ae05e_row7_col3\" class=\"data row7 col3\" >$3.19</td>\n",
       "    </tr>\n",
       "  </tbody>\n",
       "</table>\n"
      ],
      "text/plain": [
       "<pandas.io.formats.style.Styler at 0x7f909016f490>"
      ]
     },
     "execution_count": 216,
     "metadata": {},
     "output_type": "execute_result"
    }
   ],
   "source": [
    "\n",
    "purchase_count_age=grouped_by_age[\"Purchase ID\"].count()\n",
    "purchase_average_price_age=grouped_by_age[\"Price\"].mean()\n",
    "purchase_sum_age=grouped_by_age[\"Price\"].sum()\n",
    "purchase_pp_age=purchase_sum_age/qty_by_age\n",
    "\n",
    "purchase_analysis_age_df=pd.DataFrame({\"Purchase Count\": purchase_count_age,\n",
    "                                       \"Average Purchase Price\": purchase_average_price_age,\n",
    "                                       \"Total Purchase Value\": purchase_sum_age,\n",
    "                                       \"Avg Total Purchase per Person\": purchase_pp_age})\n",
    "\n",
    "purchase_analysis_age_df.index.name=\"Age Ranges\"\n",
    "\n",
    "purchase_analysis_age_df.style.format({\"Average Purchase Price\":\"${:.2f}\",\n",
    "                                 \"Total Purchase Value\":\"${:,.2f}\",\n",
    "                                 \"Avg Total Purchase per Person\":\"${:.2f}\"})\n",
    "\n",
    "\n"
   ]
  },
  {
   "cell_type": "markdown",
   "metadata": {},
   "source": [
    "## Top Spenders"
   ]
  },
  {
   "cell_type": "markdown",
   "metadata": {},
   "source": [
    "* Run basic calculations to obtain the results in the table below\n",
    "\n",
    "\n",
    "* Create a summary data frame to hold the results\n",
    "\n",
    "\n",
    "* Sort the total purchase value column in descending order\n",
    "\n",
    "\n",
    "* Optional: give the displayed data cleaner formatting\n",
    "\n",
    "\n",
    "* Display a preview of the summary data frame\n",
    "\n"
   ]
  },
  {
   "cell_type": "code",
   "execution_count": 223,
   "metadata": {},
   "outputs": [
    {
     "data": {
      "text/html": [
       "<style type=\"text/css\">\n",
       "</style>\n",
       "<table id=\"T_3e589_\">\n",
       "  <thead>\n",
       "    <tr>\n",
       "      <th class=\"blank level0\" >&nbsp;</th>\n",
       "      <th class=\"col_heading level0 col0\" >Purchase Count</th>\n",
       "      <th class=\"col_heading level0 col1\" >Average Purchase Price</th>\n",
       "      <th class=\"col_heading level0 col2\" >Total Purchase Value</th>\n",
       "    </tr>\n",
       "    <tr>\n",
       "      <th class=\"index_name level0\" >SN</th>\n",
       "      <th class=\"blank col0\" >&nbsp;</th>\n",
       "      <th class=\"blank col1\" >&nbsp;</th>\n",
       "      <th class=\"blank col2\" >&nbsp;</th>\n",
       "    </tr>\n",
       "  </thead>\n",
       "  <tbody>\n",
       "    <tr>\n",
       "      <th id=\"T_3e589_level0_row0\" class=\"row_heading level0 row0\" >Lisosia93</th>\n",
       "      <td id=\"T_3e589_row0_col0\" class=\"data row0 col0\" >5</td>\n",
       "      <td id=\"T_3e589_row0_col1\" class=\"data row0 col1\" >$3.79</td>\n",
       "      <td id=\"T_3e589_row0_col2\" class=\"data row0 col2\" >$18.96</td>\n",
       "    </tr>\n",
       "    <tr>\n",
       "      <th id=\"T_3e589_level0_row1\" class=\"row_heading level0 row1\" >Idastidru52</th>\n",
       "      <td id=\"T_3e589_row1_col0\" class=\"data row1 col0\" >4</td>\n",
       "      <td id=\"T_3e589_row1_col1\" class=\"data row1 col1\" >$3.86</td>\n",
       "      <td id=\"T_3e589_row1_col2\" class=\"data row1 col2\" >$15.45</td>\n",
       "    </tr>\n",
       "    <tr>\n",
       "      <th id=\"T_3e589_level0_row2\" class=\"row_heading level0 row2\" >Chamjask73</th>\n",
       "      <td id=\"T_3e589_row2_col0\" class=\"data row2 col0\" >3</td>\n",
       "      <td id=\"T_3e589_row2_col1\" class=\"data row2 col1\" >$4.61</td>\n",
       "      <td id=\"T_3e589_row2_col2\" class=\"data row2 col2\" >$13.83</td>\n",
       "    </tr>\n",
       "    <tr>\n",
       "      <th id=\"T_3e589_level0_row3\" class=\"row_heading level0 row3\" >Iral74</th>\n",
       "      <td id=\"T_3e589_row3_col0\" class=\"data row3 col0\" >4</td>\n",
       "      <td id=\"T_3e589_row3_col1\" class=\"data row3 col1\" >$3.41</td>\n",
       "      <td id=\"T_3e589_row3_col2\" class=\"data row3 col2\" >$13.62</td>\n",
       "    </tr>\n",
       "    <tr>\n",
       "      <th id=\"T_3e589_level0_row4\" class=\"row_heading level0 row4\" >Iskadarya95</th>\n",
       "      <td id=\"T_3e589_row4_col0\" class=\"data row4 col0\" >3</td>\n",
       "      <td id=\"T_3e589_row4_col1\" class=\"data row4 col1\" >$4.37</td>\n",
       "      <td id=\"T_3e589_row4_col2\" class=\"data row4 col2\" >$13.10</td>\n",
       "    </tr>\n",
       "  </tbody>\n",
       "</table>\n"
      ],
      "text/plain": [
       "<pandas.io.formats.style.Styler at 0x7f90e22e6820>"
      ]
     },
     "execution_count": 223,
     "metadata": {},
     "output_type": "execute_result"
    }
   ],
   "source": [
    "spender_analysis=purchase_data.groupby(\"SN\")\n",
    "purchase_count_top=spender_analysis[\"Purchase ID\"].count()\n",
    "purchase_average_price_top=spender_analysis[\"Price\"].mean()\n",
    "purchase_sum_top=spender_analysis[\"Price\"].sum()\n",
    "\n",
    "top_spenders_df=pd.DataFrame({\"Purchase Count\": purchase_count_top,\n",
    "                               \"Average Purchase Price\": purchase_average_price_top,\n",
    "                                \"Total Purchase Value\": purchase_sum_top})\n",
    "\n",
    "sorted_spenders_df=top_spenders_df.sort_values([\"Total Purchase Value\"], ascending=False).head()\n",
    "\n",
    "\n",
    "sorted_spenders_df.style.format({\"Average Purchase Price\":\"${:.2f}\",\n",
    "                                 \"Total Purchase Value\":\"${:,.2f}\"})"
   ]
  },
  {
   "cell_type": "markdown",
   "metadata": {},
   "source": [
    "## Most Popular Items"
   ]
  },
  {
   "cell_type": "markdown",
   "metadata": {},
   "source": [
    "* Retrieve the Item ID, Item Name, and Item Price columns\n",
    "\n",
    "\n",
    "* Group by Item ID and Item Name. Perform calculations to obtain purchase count, average item price, and total purchase value\n",
    "\n",
    "\n",
    "* Create a summary data frame to hold the results\n",
    "\n",
    "\n",
    "* Sort the purchase count column in descending order\n",
    "\n",
    "\n",
    "* Optional: give the displayed data cleaner formatting\n",
    "\n",
    "\n",
    "* Display a preview of the summary data frame\n",
    "\n"
   ]
  },
  {
   "cell_type": "code",
   "execution_count": 226,
   "metadata": {},
   "outputs": [
    {
     "data": {
      "text/html": [
       "<style type=\"text/css\">\n",
       "</style>\n",
       "<table id=\"T_5ab4c_\">\n",
       "  <thead>\n",
       "    <tr>\n",
       "      <th class=\"blank\" >&nbsp;</th>\n",
       "      <th class=\"blank level0\" >&nbsp;</th>\n",
       "      <th class=\"col_heading level0 col0\" >Purchase Count</th>\n",
       "      <th class=\"col_heading level0 col1\" >Item Price</th>\n",
       "      <th class=\"col_heading level0 col2\" >Total Purchase Value</th>\n",
       "    </tr>\n",
       "    <tr>\n",
       "      <th class=\"index_name level0\" >Item ID</th>\n",
       "      <th class=\"index_name level1\" >Item Name</th>\n",
       "      <th class=\"blank col0\" >&nbsp;</th>\n",
       "      <th class=\"blank col1\" >&nbsp;</th>\n",
       "      <th class=\"blank col2\" >&nbsp;</th>\n",
       "    </tr>\n",
       "  </thead>\n",
       "  <tbody>\n",
       "    <tr>\n",
       "      <th id=\"T_5ab4c_level0_row0\" class=\"row_heading level0 row0\" >92</th>\n",
       "      <th id=\"T_5ab4c_level1_row0\" class=\"row_heading level1 row0\" >Final Critic</th>\n",
       "      <td id=\"T_5ab4c_row0_col0\" class=\"data row0 col0\" >13</td>\n",
       "      <td id=\"T_5ab4c_row0_col1\" class=\"data row0 col1\" >$4.61</td>\n",
       "      <td id=\"T_5ab4c_row0_col2\" class=\"data row0 col2\" >$59.99</td>\n",
       "    </tr>\n",
       "    <tr>\n",
       "      <th id=\"T_5ab4c_level0_row1\" class=\"row_heading level0 row1\" >178</th>\n",
       "      <th id=\"T_5ab4c_level1_row1\" class=\"row_heading level1 row1\" >Oathbreaker, Last Hope of the Breaking Storm</th>\n",
       "      <td id=\"T_5ab4c_row1_col0\" class=\"data row1 col0\" >12</td>\n",
       "      <td id=\"T_5ab4c_row1_col1\" class=\"data row1 col1\" >$4.23</td>\n",
       "      <td id=\"T_5ab4c_row1_col2\" class=\"data row1 col2\" >$50.76</td>\n",
       "    </tr>\n",
       "    <tr>\n",
       "      <th id=\"T_5ab4c_level0_row2\" class=\"row_heading level0 row2\" >145</th>\n",
       "      <th id=\"T_5ab4c_level1_row2\" class=\"row_heading level1 row2\" >Fiery Glass Crusader</th>\n",
       "      <td id=\"T_5ab4c_row2_col0\" class=\"data row2 col0\" >9</td>\n",
       "      <td id=\"T_5ab4c_row2_col1\" class=\"data row2 col1\" >$4.58</td>\n",
       "      <td id=\"T_5ab4c_row2_col2\" class=\"data row2 col2\" >$41.22</td>\n",
       "    </tr>\n",
       "    <tr>\n",
       "      <th id=\"T_5ab4c_level0_row3\" class=\"row_heading level0 row3\" >132</th>\n",
       "      <th id=\"T_5ab4c_level1_row3\" class=\"row_heading level1 row3\" >Persuasion</th>\n",
       "      <td id=\"T_5ab4c_row3_col0\" class=\"data row3 col0\" >9</td>\n",
       "      <td id=\"T_5ab4c_row3_col1\" class=\"data row3 col1\" >$3.22</td>\n",
       "      <td id=\"T_5ab4c_row3_col2\" class=\"data row3 col2\" >$28.99</td>\n",
       "    </tr>\n",
       "    <tr>\n",
       "      <th id=\"T_5ab4c_level0_row4\" class=\"row_heading level0 row4\" >108</th>\n",
       "      <th id=\"T_5ab4c_level1_row4\" class=\"row_heading level1 row4\" >Extraction, Quickblade Of Trembling Hands</th>\n",
       "      <td id=\"T_5ab4c_row4_col0\" class=\"data row4 col0\" >9</td>\n",
       "      <td id=\"T_5ab4c_row4_col1\" class=\"data row4 col1\" >$3.53</td>\n",
       "      <td id=\"T_5ab4c_row4_col2\" class=\"data row4 col2\" >$31.77</td>\n",
       "    </tr>\n",
       "  </tbody>\n",
       "</table>\n"
      ],
      "text/plain": [
       "<pandas.io.formats.style.Styler at 0x7f909018e220>"
      ]
     },
     "execution_count": 226,
     "metadata": {},
     "output_type": "execute_result"
    }
   ],
   "source": [
    "popular_items=purchase_data[[\"Item ID\", \"Item Name\", \"Price\"]]\n",
    "group_popular=popular_items.groupby([\"Item ID\", \"Item Name\"])\n",
    "purchase_count_popular=group_popular[\"Price\"].count()\n",
    "purchase_average_price_popular=group_popular[\"Price\"].mean()\n",
    "purchase_sum_popular=group_popular[\"Price\"].sum()\n",
    "item_price_popular= purchase_sum_popular/purchase_count_popular\n",
    "\n",
    "most_popular_items=pd.DataFrame({\"Purchase Count\": purchase_count_popular,\n",
    "                                  \"Item Price\": item_price_popular,\n",
    "                                  \"Total Purchase Value\": purchase_sum_popular})\n",
    "sorted_most_popular_items=most_popular_items.sort_values([\"Purchase Count\"],ascending= False).head()\n",
    "\n",
    "sorted_most_popular_items.style.format({\"Item Price\":\"${:.2f}\",\n",
    "                                 \"Total Purchase Value\":\"${:,.2f}\"})\n"
   ]
  },
  {
   "cell_type": "markdown",
   "metadata": {},
   "source": [
    "## Most Profitable Items"
   ]
  },
  {
   "cell_type": "markdown",
   "metadata": {},
   "source": [
    "* Sort the above table by total purchase value in descending order\n",
    "\n",
    "\n",
    "* Optional: give the displayed data cleaner formatting\n",
    "\n",
    "\n",
    "* Display a preview of the data frame\n",
    "\n"
   ]
  },
  {
   "cell_type": "code",
   "execution_count": 228,
   "metadata": {},
   "outputs": [
    {
     "data": {
      "text/html": [
       "<style type=\"text/css\">\n",
       "</style>\n",
       "<table id=\"T_ccd62_\">\n",
       "  <thead>\n",
       "    <tr>\n",
       "      <th class=\"blank\" >&nbsp;</th>\n",
       "      <th class=\"blank level0\" >&nbsp;</th>\n",
       "      <th class=\"col_heading level0 col0\" >Purchase Count</th>\n",
       "      <th class=\"col_heading level0 col1\" >Item Price</th>\n",
       "      <th class=\"col_heading level0 col2\" >Total Purchase Value</th>\n",
       "    </tr>\n",
       "    <tr>\n",
       "      <th class=\"index_name level0\" >Item ID</th>\n",
       "      <th class=\"index_name level1\" >Item Name</th>\n",
       "      <th class=\"blank col0\" >&nbsp;</th>\n",
       "      <th class=\"blank col1\" >&nbsp;</th>\n",
       "      <th class=\"blank col2\" >&nbsp;</th>\n",
       "    </tr>\n",
       "  </thead>\n",
       "  <tbody>\n",
       "    <tr>\n",
       "      <th id=\"T_ccd62_level0_row0\" class=\"row_heading level0 row0\" >92</th>\n",
       "      <th id=\"T_ccd62_level1_row0\" class=\"row_heading level1 row0\" >Final Critic</th>\n",
       "      <td id=\"T_ccd62_row0_col0\" class=\"data row0 col0\" >13</td>\n",
       "      <td id=\"T_ccd62_row0_col1\" class=\"data row0 col1\" >$4.61</td>\n",
       "      <td id=\"T_ccd62_row0_col2\" class=\"data row0 col2\" >$59.99</td>\n",
       "    </tr>\n",
       "    <tr>\n",
       "      <th id=\"T_ccd62_level0_row1\" class=\"row_heading level0 row1\" >178</th>\n",
       "      <th id=\"T_ccd62_level1_row1\" class=\"row_heading level1 row1\" >Oathbreaker, Last Hope of the Breaking Storm</th>\n",
       "      <td id=\"T_ccd62_row1_col0\" class=\"data row1 col0\" >12</td>\n",
       "      <td id=\"T_ccd62_row1_col1\" class=\"data row1 col1\" >$4.23</td>\n",
       "      <td id=\"T_ccd62_row1_col2\" class=\"data row1 col2\" >$50.76</td>\n",
       "    </tr>\n",
       "    <tr>\n",
       "      <th id=\"T_ccd62_level0_row2\" class=\"row_heading level0 row2\" >145</th>\n",
       "      <th id=\"T_ccd62_level1_row2\" class=\"row_heading level1 row2\" >Fiery Glass Crusader</th>\n",
       "      <td id=\"T_ccd62_row2_col0\" class=\"data row2 col0\" >9</td>\n",
       "      <td id=\"T_ccd62_row2_col1\" class=\"data row2 col1\" >$4.58</td>\n",
       "      <td id=\"T_ccd62_row2_col2\" class=\"data row2 col2\" >$41.22</td>\n",
       "    </tr>\n",
       "    <tr>\n",
       "      <th id=\"T_ccd62_level0_row3\" class=\"row_heading level0 row3\" >132</th>\n",
       "      <th id=\"T_ccd62_level1_row3\" class=\"row_heading level1 row3\" >Persuasion</th>\n",
       "      <td id=\"T_ccd62_row3_col0\" class=\"data row3 col0\" >9</td>\n",
       "      <td id=\"T_ccd62_row3_col1\" class=\"data row3 col1\" >$3.22</td>\n",
       "      <td id=\"T_ccd62_row3_col2\" class=\"data row3 col2\" >$28.99</td>\n",
       "    </tr>\n",
       "    <tr>\n",
       "      <th id=\"T_ccd62_level0_row4\" class=\"row_heading level0 row4\" >108</th>\n",
       "      <th id=\"T_ccd62_level1_row4\" class=\"row_heading level1 row4\" >Extraction, Quickblade Of Trembling Hands</th>\n",
       "      <td id=\"T_ccd62_row4_col0\" class=\"data row4 col0\" >9</td>\n",
       "      <td id=\"T_ccd62_row4_col1\" class=\"data row4 col1\" >$3.53</td>\n",
       "      <td id=\"T_ccd62_row4_col2\" class=\"data row4 col2\" >$31.77</td>\n",
       "    </tr>\n",
       "  </tbody>\n",
       "</table>\n"
      ],
      "text/plain": [
       "<pandas.io.formats.style.Styler at 0x7f90f05eaf10>"
      ]
     },
     "execution_count": 228,
     "metadata": {},
     "output_type": "execute_result"
    }
   ],
   "source": [
    "sorted_most_popular_items.sort_values([\"Total Purchase Value\"], ascending=False).head()\n",
    "sorted_most_popular_items.style.format({\"Item Price\":\"${:.2f}\",\n",
    "                                 \"Total Purchase Value\":\"${:,.2f}\"})\n"
   ]
  },
  {
   "cell_type": "code",
   "execution_count": 10,
   "metadata": {
    "scrolled": true
   },
   "outputs": [
    {
     "data": {
      "text/html": [
       "<div>\n",
       "<style scoped>\n",
       "    .dataframe tbody tr th:only-of-type {\n",
       "        vertical-align: middle;\n",
       "    }\n",
       "\n",
       "    .dataframe tbody tr th {\n",
       "        vertical-align: top;\n",
       "    }\n",
       "\n",
       "    .dataframe thead th {\n",
       "        text-align: right;\n",
       "    }\n",
       "</style>\n",
       "<table border=\"1\" class=\"dataframe\">\n",
       "  <thead>\n",
       "    <tr style=\"text-align: right;\">\n",
       "      <th></th>\n",
       "      <th></th>\n",
       "      <th>Purchase Count</th>\n",
       "      <th>Item Price</th>\n",
       "      <th>Total Purchase Value</th>\n",
       "    </tr>\n",
       "    <tr>\n",
       "      <th>Item ID</th>\n",
       "      <th>Item Name</th>\n",
       "      <th></th>\n",
       "      <th></th>\n",
       "      <th></th>\n",
       "    </tr>\n",
       "  </thead>\n",
       "  <tbody>\n",
       "    <tr>\n",
       "      <th>92</th>\n",
       "      <th>Final Critic</th>\n",
       "      <td>13</td>\n",
       "      <td>$4.61</td>\n",
       "      <td>$59.99</td>\n",
       "    </tr>\n",
       "    <tr>\n",
       "      <th>178</th>\n",
       "      <th>Oathbreaker, Last Hope of the Breaking Storm</th>\n",
       "      <td>12</td>\n",
       "      <td>$4.23</td>\n",
       "      <td>$50.76</td>\n",
       "    </tr>\n",
       "    <tr>\n",
       "      <th>82</th>\n",
       "      <th>Nirvana</th>\n",
       "      <td>9</td>\n",
       "      <td>$4.90</td>\n",
       "      <td>$44.10</td>\n",
       "    </tr>\n",
       "    <tr>\n",
       "      <th>145</th>\n",
       "      <th>Fiery Glass Crusader</th>\n",
       "      <td>9</td>\n",
       "      <td>$4.58</td>\n",
       "      <td>$41.22</td>\n",
       "    </tr>\n",
       "    <tr>\n",
       "      <th>103</th>\n",
       "      <th>Singed Scalpel</th>\n",
       "      <td>8</td>\n",
       "      <td>$4.35</td>\n",
       "      <td>$34.80</td>\n",
       "    </tr>\n",
       "  </tbody>\n",
       "</table>\n",
       "</div>"
      ],
      "text/plain": [
       "                                                     Purchase Count  \\\n",
       "Item ID Item Name                                                     \n",
       "92      Final Critic                                             13   \n",
       "178     Oathbreaker, Last Hope of the Breaking Storm             12   \n",
       "82      Nirvana                                                   9   \n",
       "145     Fiery Glass Crusader                                      9   \n",
       "103     Singed Scalpel                                            8   \n",
       "\n",
       "                                                     Item Price  \\\n",
       "Item ID Item Name                                                 \n",
       "92      Final Critic                                      $4.61   \n",
       "178     Oathbreaker, Last Hope of the Breaking Storm      $4.23   \n",
       "82      Nirvana                                           $4.90   \n",
       "145     Fiery Glass Crusader                              $4.58   \n",
       "103     Singed Scalpel                                    $4.35   \n",
       "\n",
       "                                                     Total Purchase Value  \n",
       "Item ID Item Name                                                          \n",
       "92      Final Critic                                               $59.99  \n",
       "178     Oathbreaker, Last Hope of the Breaking Storm               $50.76  \n",
       "82      Nirvana                                                    $44.10  \n",
       "145     Fiery Glass Crusader                                       $41.22  \n",
       "103     Singed Scalpel                                             $34.80  "
      ]
     },
     "execution_count": 10,
     "metadata": {},
     "output_type": "execute_result"
    }
   ],
   "source": [
    "popular_items="
   ]
  }
 ],
 "metadata": {
  "anaconda-cloud": {},
  "kernel_info": {
   "name": "python3"
  },
  "kernelspec": {
   "display_name": "Python 3",
   "language": "python",
   "name": "python3"
  },
  "language_info": {
   "codemirror_mode": {
    "name": "ipython",
    "version": 3
   },
   "file_extension": ".py",
   "mimetype": "text/x-python",
   "name": "python",
   "nbconvert_exporter": "python",
   "pygments_lexer": "ipython3",
   "version": "3.8.5"
  },
  "latex_envs": {
   "LaTeX_envs_menu_present": true,
   "autoclose": false,
   "autocomplete": true,
   "bibliofile": "biblio.bib",
   "cite_by": "apalike",
   "current_citInitial": 1,
   "eqLabelWithNumbers": true,
   "eqNumInitial": 1,
   "hotkeys": {
    "equation": "Ctrl-E",
    "itemize": "Ctrl-I"
   },
   "labels_anchors": false,
   "latex_user_defs": false,
   "report_style_numbering": false,
   "user_envs_cfg": false
  },
  "nteract": {
   "version": "0.2.0"
  }
 },
 "nbformat": 4,
 "nbformat_minor": 2
}
